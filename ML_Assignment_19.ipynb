{
 "cells": [
  {
   "cell_type": "markdown",
   "id": "afad0304",
   "metadata": {},
   "source": [
    "1. A set of one-dimensional data points is given to you: 5, 10, 15, 20, 25, 30, 35. Assume that k = 2 and that the first set of random centroid is 15, 32, and that the second set is 12, 30. ?\n",
    "\n",
    "Using the k-means method, create two clusters for each set of centroid described above.\n",
    "\n",
    "For each set of centroid values, calculate the SSE."
   ]
  },
  {
   "cell_type": "code",
   "execution_count": null,
   "id": "fb12d1b7",
   "metadata": {},
   "outputs": [],
   "source": []
  },
  {
   "cell_type": "markdown",
   "id": "0b3f469b",
   "metadata": {},
   "source": [
    "2. Describe how the Market Basket Research makes use of association analysis concepts ?\n"
   ]
  },
  {
   "cell_type": "code",
   "execution_count": null,
   "id": "af1b6707",
   "metadata": {},
   "outputs": [],
   "source": []
  },
  {
   "cell_type": "markdown",
   "id": "aff7a623",
   "metadata": {},
   "source": [
    "3. Give an example of the Apriori algorithm for learning association rules ?\n"
   ]
  },
  {
   "cell_type": "code",
   "execution_count": null,
   "id": "95c1623d",
   "metadata": {},
   "outputs": [],
   "source": []
  },
  {
   "cell_type": "markdown",
   "id": "305e4bb2",
   "metadata": {},
   "source": [
    "4. In hierarchical clustering, how is the distance between clusters measured? Explain how this metric is used to decide when to end the iteration ?\n"
   ]
  },
  {
   "cell_type": "code",
   "execution_count": null,
   "id": "598a1bf7",
   "metadata": {},
   "outputs": [],
   "source": []
  },
  {
   "cell_type": "markdown",
   "id": "f5b11745",
   "metadata": {},
   "source": [
    "5. In the k-means algorithm, how do you recompute the cluster centroids ?\n"
   ]
  },
  {
   "cell_type": "code",
   "execution_count": null,
   "id": "9b67de3c",
   "metadata": {},
   "outputs": [],
   "source": []
  },
  {
   "cell_type": "markdown",
   "id": "ec5d1609",
   "metadata": {},
   "source": [
    "6. At the start of the clustering exercise, discuss one method for determining the required number of clusters ?\n"
   ]
  },
  {
   "cell_type": "code",
   "execution_count": null,
   "id": "4263107d",
   "metadata": {},
   "outputs": [],
   "source": []
  },
  {
   "cell_type": "markdown",
   "id": "6f30dad1",
   "metadata": {},
   "source": [
    "7. Discuss the k-means algorithm's advantages and disadvantages ?\n"
   ]
  },
  {
   "cell_type": "code",
   "execution_count": null,
   "id": "ff929ee0",
   "metadata": {},
   "outputs": [],
   "source": []
  },
  {
   "cell_type": "markdown",
   "id": "db96c521",
   "metadata": {},
   "source": [
    "8. Draw a diagram to demonstrate the principle of clustering ?\n"
   ]
  },
  {
   "cell_type": "code",
   "execution_count": null,
   "id": "322d49c1",
   "metadata": {},
   "outputs": [],
   "source": []
  },
  {
   "cell_type": "markdown",
   "id": "a7e822a6",
   "metadata": {},
   "source": [
    "9. During your study, you discovered seven findings, which are listed in the data points below. Using the K-means algorithm, you want to build three clusters from these observations. The clusters C1, C2, and C3 have the following findings after the first iteration ?\n",
    "\n",
    "C1: (2,2), (4,4), (6,6); C2: (2,2), (4,4), (6,6); C3: (2,2), (4,4),\n",
    "\n",
    "C2: (0,4), (4,0), (0,4), (0,4), (0,4), (0,4), (0,4), (0,4), (0,\n",
    "\n",
    "C3: (5,5) and (9,9)\n",
    "                                                             \n",
    "What would the cluster centroids be if you were to run a second iteration? What would this clustering's SSE be?"
   ]
  },
  {
   "cell_type": "code",
   "execution_count": null,
   "id": "e5aa90cc",
   "metadata": {},
   "outputs": [],
   "source": []
  },
  {
   "cell_type": "markdown",
   "id": "27ce1633",
   "metadata": {},
   "source": [
    "10. In a software project, the team is attempting to determine if software flaws discovered during testing are identical. Based on the text analytics of the defect details, they decided to build 5 clusters of related defects. Any new defect formed after the 5 clusters of defects have been identified must be listed as one of the forms identified by clustering. A simple diagram can be used to explain this process. Assume you have 20 defect data points that are clustered into 5 clusters and you used the k-means algorithm ?"
   ]
  },
  {
   "cell_type": "code",
   "execution_count": null,
   "id": "9436dd96",
   "metadata": {},
   "outputs": [],
   "source": []
  }
 ],
 "metadata": {
  "kernelspec": {
   "display_name": "Python 3 (ipykernel)",
   "language": "python",
   "name": "python3"
  },
  "language_info": {
   "codemirror_mode": {
    "name": "ipython",
    "version": 3
   },
   "file_extension": ".py",
   "mimetype": "text/x-python",
   "name": "python",
   "nbconvert_exporter": "python",
   "pygments_lexer": "ipython3",
   "version": "3.9.12"
  }
 },
 "nbformat": 4,
 "nbformat_minor": 5
}
